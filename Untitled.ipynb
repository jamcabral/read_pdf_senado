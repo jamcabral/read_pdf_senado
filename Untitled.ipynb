{
 "cells": [
  {
   "cell_type": "code",
   "execution_count": 1,
   "id": "chubby-courage",
   "metadata": {},
   "outputs": [],
   "source": [
    "# importa as bibliotecas necessárias\n",
    "import PyPDF2\n",
    "import re"
   ]
  },
  {
   "cell_type": "code",
   "execution_count": 2,
   "id": "formal-dinner",
   "metadata": {},
   "outputs": [
    {
     "name": "stdout",
     "output_type": "stream",
     "text": [
      "Após eliminar as quebras\n",
      "                                                                                                                                                       sexta-feira, 14 de janeiro de 2022       Jammesson Cabral de Albuquerque         Experiência Profissional  Jammesson Cabral de Albuquerque. - Engenheiro da Computação ( Faculdade Uninassau ). - Estudante Engenharia Eletrônica. ( UFPE ) - Pós Graduando em Ciência de dados  e Big Data. ( PUC MINAS ) Av. Recife nº 4052  Recife  PE Telefone: (81) 99740-7405 Email: jammessoncabral@gmail.com Brasileiro / 33 anos / Solteiro linkedin:  https://www.linkedin.com/in/jammesson-cabral/ github: https://github.com/jamcabral  Hard Skills: Python  Pandas Numpy Matplotlib Django Banco de Dados - Mysql - MaxDB - Postgresql - MongoDB  B.I - PowerBI - Tableau - Pentaho Soft Skill: Inteligência emocional Controle emocional Comunicativo Todos os cursos e certificações estão na página do linkedin. LinkedIn. Período: Início: 01/08/2017 à Estou trabalhando atualmente  Empresa: UPA CURADO  Empresa de médio porte no segmento de Saúde Cargo: T.I    Funções: Realizar DashBoards com PowerBi;  Pipeline de dados usando a ferramenta Pentaho pdi.  Aplicar os conhecimentos adquiridos durante pós graduação para análise da dados e extração para gerar valor para unidade. Realizar querys  em SQL no banco de dados MaxDB.  Realizar criação de formulários para o sistema Smart Pixeon, criação de relatórios utilizando banco de dados MaxDB, treinamento para os profissionais utilizarem o sistema Smart ( médicos, enfermeiros, técnicos, administrativos), desenvolvimento de script python para extração de dados do sistema Smart, configuração de servidores, criar maquinas virtuais, desenvolver e verificar política de backup, analise de rede, help desk. Período: Início: 01/04/2016  à  30/07/2017  Empresa: UPA IBURA  Empresa de médio porte no segmento de Saúde  Cargo: Auxiliar de T. I                           Funções: Realizar suporte técnico, instalar programas, atender aos chamados de usuários, tirar dúvidas em relação ao sistema para o usuário, gerar gráficos na planilha Excel, criar planilhas em Excel para atender solicitação administrativa, manutenção em computadores, atualização de sistema operacional e help desk. Período: Início: 01/01/2014 à 01/01/2016  Empresa: CNC - Clube Náutico Capibaribe - Empresa de Médio Porte no Segmento Esportivo  Cargo: Supervisor de Secretaria e Recepção  Funções: Coordenar grupo de funcionário, desenvolver script de atendimento ao sócio, fechamento de caixa, atendimento ao sócio, vendas de ingressos para jogos, criação de planilhas com dados financeira, participação nas eleições interna, organizar retirada de carteiras de sócios. \n"
     ]
    }
   ],
   "source": [
    "\n",
    "\n",
    "# Abre o arquivo pdf \n",
    "# lembre-se que para o windows você deve usar essa barra -> / \n",
    "# lembre-se também que você precisa colocar o caminho absoluto\n",
    "pdf_file = open('CR_JAM.pdf', 'rb')\n",
    "\n",
    "#Faz a leitura usando a biblioteca\n",
    "read_pdf = PyPDF2.PdfFileReader(pdf_file)\n",
    "\n",
    "# pega o numero de páginas\n",
    "number_of_pages = read_pdf.getNumPages()\n",
    "\n",
    "#lê a primeira página completa\n",
    "page = read_pdf.getPage(0)\n",
    "\n",
    "#extrai apenas o texto\n",
    "page_content = page.extractText()\n",
    "\n",
    "# faz a junção das linhas \n",
    "parsed = ''.join(page_content)\n",
    "\n",
    "\n",
    "# remove as quebras de linha\n",
    "parsed = re.sub('\\n', '', parsed)\n",
    "print(\"Após eliminar as quebras\")\n",
    "print(parsed)\n"
   ]
  },
  {
   "cell_type": "code",
   "execution_count": 3,
   "id": "indirect-measurement",
   "metadata": {},
   "outputs": [
    {
     "name": "stdout",
     "output_type": "stream",
     "text": [
      "Após eliminar as quebras\n",
      "˘ˇˆ˘˙ˇ˙˙˝˛˚˛˜ !\"˛#˘˙ˇ˙˙%˛˝&˚˝() *˛˛&˝+&)˘-˝˛)%/˝ ˛0%˚˝&˜˜ 0%2˜ % 3$0˛. 4 5 .  0%2˜ % ˛2)˝ /+˝˛)5 89)&˛˝˛+˝:; )&&)ˇˆ˙˛˚˜ !\"#˛$&ˆ˛#ˇ˛)*#ˇ)'+,˛ˇ#$,-.˛ˆˆ/0ˆ'˝-+/˛0˛$'ˆˆ-ˆ2)0.&ˆ+˛˛'˛ˆ˛˛(ˆ˛45(˛'8˛)ˆˇ˛5)ˇ55ˆ)ˆ55)5''ˆ$ˆ˜)ˆ$,5$˜)$52˙˚˜ !\"˛,(ˆ+ˆ/&ˆ˛˚˜ !\"#˛$263˙˚˜ !\",˛ˆ+/0/8<˛ˆ˛˚˜ !\"#˛$273˙$˛ˆ+,0+˛˛˚˜ !\"#˛$ˇˆˇ47=6'ˆ˛˛ˆ/0@ˇˆ63273/;&ˆ8<˛ˆ˛$'ˆB+A˛ˆˆˆ,8C00002MPV 1112\n"
     ]
    }
   ],
   "source": [
    "\n",
    "# Abre o arquivo pdf \n",
    "# lembre-se que para o windows você deve usar essa barra -> / \n",
    "# lembre-se também que você precisa colocar o caminho absoluto\n",
    "pdf_file = open('DOC-EMENDA 2 - MPV 11122022-20220401.pdf', 'rb')\n",
    "\n",
    "#Faz a leitura usando a biblioteca\n",
    "read_pdf = PyPDF2.PdfFileReader(pdf_file)\n",
    "\n",
    "# pega o numero de páginas\n",
    "number_of_pages = read_pdf.getNumPages()\n",
    "\n",
    "#lê a primeira página completa\n",
    "page = read_pdf.getPage(0)\n",
    "\n",
    "#extrai apenas o texto\n",
    "page_content = page.extractText()\n",
    "\n",
    "# faz a junção das linhas \n",
    "parsed = ''.join(page_content)\n",
    "\n",
    "\n",
    "# remove as quebras de linha\n",
    "parsed = re.sub('\\n', '', parsed)\n",
    "print(\"Após eliminar as quebras\")\n",
    "print(parsed)"
   ]
  },
  {
   "cell_type": "code",
   "execution_count": null,
   "id": "active-middle",
   "metadata": {},
   "outputs": [],
   "source": []
  }
 ],
 "metadata": {
  "kernelspec": {
   "display_name": "Python 3",
   "language": "python",
   "name": "python3"
  },
  "language_info": {
   "codemirror_mode": {
    "name": "ipython",
    "version": 3
   },
   "file_extension": ".py",
   "mimetype": "text/x-python",
   "name": "python",
   "nbconvert_exporter": "python",
   "pygments_lexer": "ipython3",
   "version": "3.9.1"
  }
 },
 "nbformat": 4,
 "nbformat_minor": 5
}
